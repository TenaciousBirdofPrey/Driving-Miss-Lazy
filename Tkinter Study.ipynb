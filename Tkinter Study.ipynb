{
 "cells": [
  {
   "cell_type": "code",
   "execution_count": 2,
   "metadata": {
    "collapsed": true
   },
   "outputs": [],
   "source": [
    "from tkinter import *"
   ]
  },
  {
   "cell_type": "code",
   "execution_count": null,
   "metadata": {
    "collapsed": false
   },
   "outputs": [],
   "source": [
    "class Window(Frame):\n",
    "    def __init__(self, master = None):\n",
    "        Frame.__init__(self,master)\n",
    "        \n",
    "        self.master = master\n",
    "        self.init_window()\n",
    "        \n",
    "        \n",
    "    def init_window(self):\n",
    "        self.master.title(\"GUI\")\n",
    "        \n",
    "        self.pack(fill = BOTH, expand = 1)\n",
    "        \n",
    "        quitButton = Button(self, text=\"Quit\", command = self.client_exit)\n",
    "        \n",
    "        quitButton.place(x=0,y=0)\n",
    "\n",
    "    def client_exit(self):\n",
    "        exit()\n",
    "\n",
    "\n",
    "\n",
    "\n",
    "root = Tk()\n",
    "root.geometry(\"400x300\")\n",
    "\n",
    "app = Window(root)\n",
    "root.mainloop()"
   ]
  },
  {
   "cell_type": "code",
   "execution_count": null,
   "metadata": {
    "collapsed": true
   },
   "outputs": [],
   "source": [
    "self.button = Button(\n",
    "            frame, text=\"QUIT\", fg=\"red\", command=frame.quit\n",
    "            )"
   ]
  }
 ],
 "metadata": {
  "kernelspec": {
   "display_name": "Python [Root]",
   "language": "python",
   "name": "Python [Root]"
  },
  "language_info": {
   "codemirror_mode": {
    "name": "ipython",
    "version": 3
   },
   "file_extension": ".py",
   "mimetype": "text/x-python",
   "name": "python",
   "nbconvert_exporter": "python",
   "pygments_lexer": "ipython3",
   "version": "3.5.2"
  }
 },
 "nbformat": 4,
 "nbformat_minor": 0
}
