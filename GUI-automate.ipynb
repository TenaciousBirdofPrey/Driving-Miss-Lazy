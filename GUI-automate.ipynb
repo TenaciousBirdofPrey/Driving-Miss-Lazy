{
 "cells": [
  {
   "cell_type": "markdown",
   "metadata": {},
   "source": [
    " https://sites.google.com/a/chromium.org/chromedriver/getting-started\n",
    " \n",
    " http://selenium-python.readthedocs.io/api.html\n",
    " \n",
    " best:\n",
    " http://selenium-python.readthedocs.io/getting-started.html"
   ]
  },
  {
   "cell_type": "code",
   "execution_count": 1,
   "metadata": {
    "collapsed": false
   },
   "outputs": [],
   "source": [
    "from tkinter import *\n",
    "import requests\n",
    "import time\n",
    "from selenium import webdriver\n",
    "from selenium.webdriver.common.by import By\n",
    "from selenium.webdriver.support.ui import WebDriverWait\n",
    "from selenium.webdriver.support import expected_conditions as EC\n",
    "from selenium.webdriver.common.keys import Keys"
   ]
  },
  {
   "cell_type": "code",
   "execution_count": 8,
   "metadata": {
    "collapsed": false
   },
   "outputs": [],
   "source": [
    "class App:\n",
    "\n",
    "    def __init__(self, master):\n",
    "\n",
    "        frame = Frame(master)\n",
    "        frame.pack()\n",
    "\n",
    "        self.button = Button(\n",
    "            frame, text=\"QUIT\", fg=\"red\", command=frame.quit\n",
    "            )\n",
    "        self.button.pack(side=LEFT)\n",
    "\n",
    "        self.goto_navigator = Button(frame, text=\"Navigator\", command=self.goto_navigator)\n",
    "        self.goto_navigator.pack(side=LEFT)\n",
    "        \n",
    "        self.goto_CITY = Button(frame, text=\"CI/TY\", command=self.goto_CITY)\n",
    "        self.goto_CITY.pack(side=LEFT)\n",
    "\n",
    "    \n",
    "    \n",
    "    def goto_navigator(self):\n",
    "        driver = webdriver.Chrome('c:/chromedriver')  # Optional argument, if not specified will search path.\n",
    "        driver.get('https://psavfs.psav.com/adfs/ls/?wa=wsignin1.0&wtrealm=http%3a%2f%2fapps.psav.com%2fnavigator&wctx=rm%3d0%26id%3dpassive%26ru%3d%252f&wct=2015-05-27T18%3a05%3a25Z');\n",
    "        time.sleep(1) # Let the user actually see something!\n",
    "\n",
    "        #finds username and puts it in\n",
    "        search_UN = driver.find_element_by_name('UserName')\n",
    "        search_UN.send_keys('bodonnell@psav.com')\n",
    "\n",
    "        #finds password box and puts it in\n",
    "        searchPW = driver.find_element_by_name('Password')\n",
    "        searchPW.send_keys('5102!cow')\n",
    "\n",
    "        submit_box =driver.find_element_by_id('submitButton')\n",
    "        submit_box.submit()\n",
    "\n",
    "        driver.implicitly_wait(30)\n",
    "\n",
    "        searchOrder = driver.find_element_by_id(\"searchOrder\")\n",
    "        searchOrder.send_keys(Keys.RETURN)\n",
    "    \n",
    "    def goto_CITY(self):\n",
    "        driver = webdriver.Chrome('c:/chromedriver')\n",
    "        driver.get('https://salesnet.marriott.com/gsemr5_enu/start.swe?SWECmd=GotoView&SWEView=TNT+CMT+Site+FSS+Diary+-+My+Property&SWERF=1&SWEHo=salesnet.marriott.com&SWEBU=1&SWEApplet0=TNT+SHM+Site+List+Applet+-+1+Row&SWERowId0=M-TIEG')\n",
    "        \n",
    "        #enter username password\n",
    "        search_UN = driver.find_element_by_name('username')\n",
    "        search_UN.send_keys('bodon128')\n",
    "        search_pw = driver.find_element_by_name('password')\n",
    "        search_pw.send_keys('123!@#qweQWE')\n",
    "        submit_box = driver.find_element_by_class_name('btn')\n",
    "        submit_box.submit()\n",
    "\n",
    "\n",
    "root = Tk()\n",
    "\n",
    "app = App(root)\n",
    "\n",
    "root.mainloop()\n",
    "root.destroy() # optional; see description below"
   ]
  }
 ],
 "metadata": {
  "anaconda-cloud": {},
  "kernelspec": {
   "display_name": "Python [Root]",
   "language": "python",
   "name": "Python [Root]"
  },
  "language_info": {
   "codemirror_mode": {
    "name": "ipython",
    "version": 3
   },
   "file_extension": ".py",
   "mimetype": "text/x-python",
   "name": "python",
   "nbconvert_exporter": "python",
   "pygments_lexer": "ipython3",
   "version": "3.5.2"
  }
 },
 "nbformat": 4,
 "nbformat_minor": 0
}
